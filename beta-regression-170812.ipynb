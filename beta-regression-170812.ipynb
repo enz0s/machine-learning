{
 "cells": [
  {
   "cell_type": "code",
   "execution_count": 1,
   "metadata": {
    "collapsed": true
   },
   "outputs": [],
   "source": [
    "import pandas as pd"
   ]
  },
  {
   "cell_type": "code",
   "execution_count": 2,
   "metadata": {
    "collapsed": true
   },
   "outputs": [],
   "source": [
    "import numpy as np"
   ]
  },
  {
   "cell_type": "code",
   "execution_count": 3,
   "metadata": {
    "collapsed": true
   },
   "outputs": [],
   "source": [
    "def readFile(filename, tbond = False):\n",
    "    data = pd.read_csv(filename, sep=\",\", usecols=[0,5], \n",
    "                       names = ['Date','Price'], header = 0)\n",
    "    if tbond == False: \n",
    "        returns = (np.array(data[\"Price\"][:-1], np.float) - \n",
    "                   np.array(data[\"Price\"][1:], np.float)) / \n",
    "                    np.array(data[\"Price\"][1:], np.float)\n",
    "        data[\"Returns\"] = np.append(returns, np.nan)\n",
    "    if tbond == True:\n",
    "        data[\"Returns\"] = data[\"Price\"] / 100\n",
    "    data.index = data[\"Date\"]\n",
    "    data = data[\"Returns\"][0:-1]\n",
    "    return data"
   ]
  },
  {
   "cell_type": "code",
   "execution_count": 4,
   "metadata": {
    "collapsed": true
   },
   "outputs": [],
   "source": [
    "googData = readFile('/Users/lorenzostamaria/Dropbox/Notebooks/Repository/regression-dataset/GOOG.csv')"
   ]
  },
  {
   "cell_type": "code",
   "execution_count": 5,
   "metadata": {},
   "outputs": [
    {
     "data": {
      "text/plain": [
       "Date\n",
       "2010-01-01    0.005960\n",
       "2010-02-01   -0.071096\n",
       "2010-03-01    0.078790\n",
       "2010-04-01    0.082511\n",
       "2010-05-01    0.091426\n",
       "2010-06-01   -0.082294\n",
       "2010-07-01    0.077397\n",
       "2010-08-01   -0.144107\n",
       "2010-09-01   -0.143246\n",
       "2010-10-01    0.104353\n",
       "2010-11-01   -0.064414\n",
       "2010-12-01   -0.010644\n",
       "2011-01-01   -0.021259\n",
       "2011-02-01    0.045402\n",
       "2011-03-01    0.078405\n",
       "2011-04-01    0.028506\n",
       "2011-05-01    0.044709\n",
       "2011-06-01   -0.161192\n",
       "2011-07-01    0.115960\n",
       "2011-08-01    0.050326\n",
       "2011-09-01   -0.130940\n",
       "2011-10-01   -0.011261\n",
       "2011-11-01   -0.072008\n",
       "2011-12-01    0.113410\n",
       "2012-01-01   -0.061690\n",
       "2012-02-01   -0.035852\n",
       "2012-03-01    0.060164\n",
       "2012-04-01    0.041301\n",
       "2012-05-01    0.001362\n",
       "2012-06-01   -0.083574\n",
       "                ...   \n",
       "2013-07-01    0.048235\n",
       "2013-08-01   -0.033120\n",
       "2013-09-01   -0.150081\n",
       "2013-10-01   -0.027378\n",
       "2013-11-01   -0.054537\n",
       "2013-12-01   -0.051026\n",
       "2014-01-01   -0.028528\n",
       "2014-02-01    0.090216\n",
       "2014-03-01    0.057551\n",
       "2014-04-01   -0.059351\n",
       "2014-05-01   -0.026752\n",
       "2014-06-01    0.006438\n",
       "2014-07-01    0.000000\n",
       "2014-08-01   -0.009976\n",
       "2014-09-01    0.032697\n",
       "2014-10-01    0.031837\n",
       "2014-11-01    0.029312\n",
       "2014-12-01   -0.015191\n",
       "2015-01-01   -0.042765\n",
       "2015-02-01    0.018978\n",
       "2015-03-01    0.017046\n",
       "2015-04-01    0.009829\n",
       "2015-05-01    0.022286\n",
       "2015-06-01   -0.167996\n",
       "2015-07-01   -0.018820\n",
       "2015-08-01    0.047977\n",
       "2015-09-01   -0.144047\n",
       "2015-10-01   -0.042809\n",
       "2015-11-01   -0.021453\n",
       "2015-12-01    0.021442\n",
       "Name: Returns, Length: 72, dtype: float64"
      ]
     },
     "execution_count": 5,
     "metadata": {},
     "output_type": "execute_result"
    }
   ],
   "source": [
    "googData"
   ]
  },
  {
   "cell_type": "code",
   "execution_count": 6,
   "metadata": {
    "collapsed": true
   },
   "outputs": [],
   "source": [
    "nasdaqData = readFile('/Users/lorenzostamaria/Dropbox/Notebooks/Repository/regression-dataset/^IXIC.csv')"
   ]
  },
  {
   "cell_type": "code",
   "execution_count": 7,
   "metadata": {},
   "outputs": [
    {
     "data": {
      "text/plain": [
       "Date\n",
       "2010-01-01   -0.040616\n",
       "2010-02-01   -0.066598\n",
       "2010-03-01   -0.025691\n",
       "2010-04-01    0.090450\n",
       "2010-05-01    0.070073\n",
       "2010-06-01   -0.064514\n",
       "2010-07-01    0.066541\n",
       "2010-08-01   -0.107485\n",
       "2010-09-01   -0.055352\n",
       "2010-10-01    0.003675\n",
       "2010-11-01   -0.058292\n",
       "2010-12-01   -0.017485\n",
       "2011-01-01   -0.029541\n",
       "2011-02-01    0.000431\n",
       "2011-03-01   -0.032180\n",
       "2011-04-01    0.013487\n",
       "2011-05-01    0.022275\n",
       "2011-06-01    0.006218\n",
       "2011-07-01    0.068588\n",
       "2011-08-01    0.067923\n",
       "2011-09-01   -0.100212\n",
       "2011-10-01    0.024451\n",
       "2011-11-01    0.005831\n",
       "2011-12-01   -0.074166\n",
       "2012-01-01   -0.051586\n",
       "2012-02-01   -0.040329\n",
       "2012-03-01    0.014841\n",
       "2012-04-01    0.077465\n",
       "2012-05-01   -0.036698\n",
       "2012-06-01   -0.001521\n",
       "                ...   \n",
       "2013-07-01    0.010167\n",
       "2013-08-01   -0.048153\n",
       "2013-09-01   -0.037817\n",
       "2013-10-01   -0.034528\n",
       "2013-11-01   -0.027941\n",
       "2013-12-01    0.017717\n",
       "2014-01-01   -0.047408\n",
       "2014-02-01    0.025990\n",
       "2014-03-01    0.020520\n",
       "2014-04-01   -0.030184\n",
       "2014-05-01   -0.037557\n",
       "2014-06-01    0.008790\n",
       "2014-07-01   -0.045958\n",
       "2014-08-01    0.019335\n",
       "2014-09-01   -0.029661\n",
       "2014-10-01   -0.033577\n",
       "2014-11-01    0.011736\n",
       "2014-12-01    0.021749\n",
       "2015-01-01   -0.066140\n",
       "2015-02-01    0.012783\n",
       "2015-03-01   -0.008204\n",
       "2015-04-01   -0.025367\n",
       "2015-05-01    0.016676\n",
       "2015-06-01   -0.027574\n",
       "2015-07-01    0.065570\n",
       "2015-08-01    0.041676\n",
       "2015-09-01   -0.085796\n",
       "2015-10-01   -0.010750\n",
       "2015-11-01    0.020222\n",
       "2015-12-01    0.085276\n",
       "Name: Returns, Length: 72, dtype: float64"
      ]
     },
     "execution_count": 7,
     "metadata": {},
     "output_type": "execute_result"
    }
   ],
   "source": [
    "nasdaqData"
   ]
  },
  {
   "cell_type": "code",
   "execution_count": 8,
   "metadata": {
    "collapsed": true
   },
   "outputs": [],
   "source": [
    "tbondData = readFile('/Users/lorenzostamaria/Dropbox/Notebooks/Repository/regression-dataset/^FVX.csv', tbond = True)"
   ]
  },
  {
   "cell_type": "code",
   "execution_count": 9,
   "metadata": {},
   "outputs": [
    {
     "data": {
      "text/plain": [
       "Date\n",
       "2010-01-01    0.02348\n",
       "2010-02-01    0.02284\n",
       "2010-03-01    0.02560\n",
       "2010-04-01    0.02420\n",
       "2010-05-01    0.02097\n",
       "2010-06-01    0.01795\n",
       "2010-07-01    0.01598\n",
       "2010-08-01    0.01342\n",
       "2010-09-01    0.01281\n",
       "2010-10-01    0.01179\n",
       "2010-11-01    0.01464\n",
       "2010-12-01    0.02016\n",
       "2011-01-01    0.01952\n",
       "2011-02-01    0.02137\n",
       "2011-03-01    0.02225\n",
       "2011-04-01    0.01975\n",
       "2011-05-01    0.01688\n",
       "2011-06-01    0.01754\n",
       "2011-07-01    0.01373\n",
       "2011-08-01    0.00952\n",
       "2011-09-01    0.00965\n",
       "2011-10-01    0.01011\n",
       "2011-11-01    0.00952\n",
       "2011-12-01    0.00830\n",
       "2012-01-01    0.00711\n",
       "2012-02-01    0.00875\n",
       "2012-03-01    0.01043\n",
       "2012-04-01    0.00811\n",
       "2012-05-01    0.00671\n",
       "2012-06-01    0.00729\n",
       "               ...   \n",
       "2013-07-01    0.01391\n",
       "2013-08-01    0.01601\n",
       "2013-09-01    0.01388\n",
       "2013-10-01    0.01315\n",
       "2013-11-01    0.01367\n",
       "2013-12-01    0.01748\n",
       "2014-01-01    0.01510\n",
       "2014-02-01    0.01511\n",
       "2014-03-01    0.01732\n",
       "2014-04-01    0.01681\n",
       "2014-05-01    0.01528\n",
       "2014-06-01    0.01625\n",
       "2014-07-01    0.01763\n",
       "2014-08-01    0.01628\n",
       "2014-09-01    0.01780\n",
       "2014-10-01    0.01613\n",
       "2014-11-01    0.01511\n",
       "2014-12-01    0.01653\n",
       "2015-01-01    0.01187\n",
       "2015-02-01    0.01505\n",
       "2015-03-01    0.01375\n",
       "2015-04-01    0.01442\n",
       "2015-05-01    0.01467\n",
       "2015-06-01    0.01628\n",
       "2015-07-01    0.01548\n",
       "2015-08-01    0.01484\n",
       "2015-09-01    0.01375\n",
       "2015-10-01    0.01528\n",
       "2015-11-01    0.01654\n",
       "2015-12-01    0.01758\n",
       "Name: Returns, Length: 72, dtype: float64"
      ]
     },
     "execution_count": 9,
     "metadata": {},
     "output_type": "execute_result"
    }
   ],
   "source": [
    "tbondData"
   ]
  },
  {
   "cell_type": "code",
   "execution_count": 10,
   "metadata": {
    "collapsed": true
   },
   "outputs": [],
   "source": [
    "from sklearn.linear_model import SGDRegressor, LinearRegression"
   ]
  },
  {
   "cell_type": "code",
   "execution_count": 11,
   "metadata": {
    "collapsed": true
   },
   "outputs": [],
   "source": [
    "reg = SGDRegressor(eta0 = 0.1, n_iter = 100000, fit_intercept = False)"
   ]
  },
  {
   "cell_type": "code",
   "execution_count": 12,
   "metadata": {},
   "outputs": [
    {
     "data": {
      "text/plain": [
       "SGDRegressor(alpha=0.0001, average=False, epsilon=0.1, eta0=0.1,\n",
       "       fit_intercept=False, l1_ratio=0.15, learning_rate='invscaling',\n",
       "       loss='squared_loss', n_iter=100000, penalty='l2', power_t=0.25,\n",
       "       random_state=None, shuffle=True, verbose=0, warm_start=False)"
      ]
     },
     "execution_count": 12,
     "metadata": {},
     "output_type": "execute_result"
    }
   ],
   "source": [
    "reg.fit((nasdaqData - tbondData).values.reshape(-1,1), \n",
    "        (googData - tbondData))"
   ]
  },
  {
   "cell_type": "code",
   "execution_count": 13,
   "metadata": {},
   "outputs": [
    {
     "data": {
      "text/plain": [
       "array([ 0.8821952])"
      ]
     },
     "execution_count": 13,
     "metadata": {},
     "output_type": "execute_result"
    }
   ],
   "source": [
    "reg.coef_"
   ]
  },
  {
   "cell_type": "code",
   "execution_count": 14,
   "metadata": {
    "collapsed": true
   },
   "outputs": [],
   "source": [
    "from sklearn.metrics import mean_squared_error"
   ]
  },
  {
   "cell_type": "code",
   "execution_count": 15,
   "metadata": {},
   "outputs": [
    {
     "data": {
      "text/plain": [
       "0.0032416655169300798"
      ]
     },
     "execution_count": 15,
     "metadata": {},
     "output_type": "execute_result"
    }
   ],
   "source": [
    "mean_squared_error((nasdaqData - tbondData).values.reshape(-1,1), \n",
    "        (googData - tbondData))"
   ]
  },
  {
   "cell_type": "code",
   "execution_count": null,
   "metadata": {
    "collapsed": true
   },
   "outputs": [],
   "source": []
  }
 ],
 "metadata": {
  "kernelspec": {
   "display_name": "Python 3",
   "language": "python",
   "name": "python3"
  },
  "language_info": {
   "codemirror_mode": {
    "name": "ipython",
    "version": 3
   },
   "file_extension": ".py",
   "mimetype": "text/x-python",
   "name": "python",
   "nbconvert_exporter": "python",
   "pygments_lexer": "ipython3",
   "version": "3.6.1"
  }
 },
 "nbformat": 4,
 "nbformat_minor": 2
}
